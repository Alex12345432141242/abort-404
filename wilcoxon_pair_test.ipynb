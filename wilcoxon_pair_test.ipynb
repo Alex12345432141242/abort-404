{
 "cells": [
  {
   "cell_type": "code",
   "execution_count": 1,
   "metadata": {},
   "outputs": [
    {
     "name": "stdout",
     "output_type": "stream",
     "text": [
      "166516\n",
      "18114\n"
     ]
    }
   ],
   "source": [
    "import pandas as pd \n",
    "import matplotlib.pyplot as plt \n",
    "import seaborn as sns \n",
    "import scipy.stats as stats \n",
    "import numpy as np \n",
    "import statsmodels.api as sm \n",
    "from sklearn.cluster import KMeans \n",
    "import scikit_posthocs as sp \n",
    "from scipy.stats import kruskal \n",
    "from sklearn.utils import resample \n",
    "from sklearn.feature_selection import RFE \n",
    "from sklearn.model_selection import train_test_split \n",
    "from sklearn.metrics import accuracy_score, confusion_matrix, roc_auc_score \n",
    " \n",
    "pd.set_option('display.max_columns', None)  # Отображение всех столбцов \n",
    "# pd.set_option('display.max_rows', None)  # Ото----бражение всех строк    \n",
    "regions = pd.read_csv('regions.csv') \n",
    "starts = pd.read_csv('starts.csv') \n",
    "volunteers = pd.read_csv('volunteers.csv') \n",
    " \n",
    " \n",
    " \n",
    "volunteers = volunteers[volunteers.athlete_age < 100] \n",
    "starts = starts[starts.athlete_age < 80] \n",
    "starts = starts[starts.finish_time < 5000] \n",
    " \n",
    "starts['rain.1h'] = starts['rain.1h'].fillna(0) \n",
    "starts['snow.1h'] = starts['snow.1h'].fillna(0) \n",
    " \n",
    "cnt_ludei = starts.groupby(['event_name', 'event_date', 'region']).agg( \n",
    "    cnt_runners = ('athlete_id', 'count') \n",
    ") \n",
    " \n",
    " \n",
    " \n",
    " \n",
    "ages_14 = starts[starts['athlete_age'] == 14]['athlete_id'].unique() \n",
    "ages_15 = starts[starts['athlete_age'] == 15]['athlete_id'].unique() \n",
    "common_athletes = set(ages_14) & set(ages_15) \n",
    "starts = starts[~starts['athlete_id'].isin(common_athletes)] \n",
    "starts = starts[starts['athlete_age'] > 14] \n",
    " \n",
    " \n",
    "starts['is_male'] = starts['athlete_gender'].apply(lambda x: 1 if x == 'мужской' else 0) \n",
    " \n",
    " \n",
    "volunteer_counts = volunteers.groupby(['event_date','event_name', 'volunteer_role_name']).size().unstack(fill_value=0)   \n",
    "starts = starts.merge(volunteer_counts, on=['event_date','event_name'], how='left')   \n",
    " \n",
    "starts = starts.dropna(subset=[col for col in starts.columns if col not in ['snow.1h', 'rain.1h']])   # удаление где 0 волонтеров в сумме было \n",
    " \n",
    "print(len(starts)) \n",
    "unique_dates = ( \n",
    "    pd.concat([ \n",
    "        starts[['athlete_id', 'event_date']], \n",
    "        volunteers[['athlete_id', 'event_date']] \n",
    "    ]) \n",
    "    .drop_duplicates() \n",
    ") \n",
    "date_counts = unique_dates.groupby('athlete_id').size().reset_index(name='unique_event_count') \n",
    "date_counts['is_repeated'] = (date_counts['unique_event_count'] > 1).astype(int) \n",
    "starts = starts.merge(date_counts[['athlete_id', 'is_repeated']], on='athlete_id', how='left') \n",
    " \n",
    " \n",
    "# starts = starts[~starts['region'].isin(['Республика Адыгея', 'Республика Карелия', 'Липецкая область', 'Сахалинская область', 'Архангельская область'])]   \n",
    "starts = starts[starts.event_date <= '2023-11-15'] \n",
    " \n",
    " \n",
    " \n",
    "newbie = starts[starts['is_newbie'] == 1] \n",
    "first_runs = newbie.sort_values(by='event_date').drop_duplicates('athlete_id') \n",
    "didnt_come = first_runs[first_runs.is_repeated == 0] \n",
    " \n",
    "come = first_runs[first_runs.is_repeated == 1] \n",
    "come_with_didnt_come = pd.concat([come, didnt_come]) \n",
    "come_with_didnt_come['cnt_volunteers'] = come_with_didnt_come.iloc[:, 25:52].sum(axis=1) \n",
    "come_with_didnt_come = come_with_didnt_come.merge(cnt_ludei,on=['event_name', 'event_date', 'region'], how=\"left\") \n",
    "print(len(come_with_didnt_come))\n"
   ]
  },
  {
   "cell_type": "code",
   "execution_count": null,
   "metadata": {},
   "outputs": [],
   "source": []
  }
 ],
 "metadata": {
  "kernelspec": {
   "display_name": "base",
   "language": "python",
   "name": "python3"
  },
  "language_info": {
   "codemirror_mode": {
    "name": "ipython",
    "version": 3
   },
   "file_extension": ".py",
   "mimetype": "text/x-python",
   "name": "python",
   "nbconvert_exporter": "python",
   "pygments_lexer": "ipython3",
   "version": "3.11.7"
  }
 },
 "nbformat": 4,
 "nbformat_minor": 2
}
