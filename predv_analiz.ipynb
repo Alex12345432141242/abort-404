{
 "cells": [
  {
   "cell_type": "code",
   "execution_count": 2,
   "metadata": {},
   "outputs": [],
   "source": [
    "import pandas as pd\n",
    "import matplotlib.pyplot as plt\n",
    "import seaborn as sns\n",
    "import scipy.stats as stats\n",
    "import numpy as np\n",
    "import statsmodels.api as sm\n",
    "\n",
    "\n",
    "pd.set_option('display.max_columns', None)  # Отображение всех столбцов\n",
    "starts = pd.read_csv('starts.csv')  "
   ]
  },
  {
   "cell_type": "markdown",
   "metadata": {},
   "source": [
    "# 1. Структура данных:\n",
    "1 таблица: Статистика любительских пробежек от организации «5 верст».\n",
    "\n",
    "· Данные по любительским забегам  \n",
    "· 1 строка = 1 пробежка.  \n",
    "· 178857 строк, 23 cтолбца  \n",
    "· Временной промежуток: 2023 год  \n",
    "2 таблица:"
   ]
  },
  {
   "cell_type": "code",
   "execution_count": 4,
   "metadata": {},
   "outputs": [
    {
     "name": "stdout",
     "output_type": "stream",
     "text": [
      "(178857, 23)\n"
     ]
    }
   ],
   "source": [
    "print(starts.shape)"
   ]
  }
 ],
 "metadata": {
  "kernelspec": {
   "display_name": "Python 3 (ipykernel)",
   "language": "python",
   "name": "python3"
  }
 },
 "nbformat": 4,
 "nbformat_minor": 2
}
