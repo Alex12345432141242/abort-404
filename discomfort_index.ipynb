{
 "cells": [
  {
   "cell_type": "code",
   "execution_count": 2,
   "metadata": {},
   "outputs": [],
   "source": [
    "import pandas as pd\n",
    "import matplotlib.pyplot as plt\n",
    "import seaborn as sns\n",
    "import numpy as np"
   ]
  },
  {
   "cell_type": "code",
   "execution_count": 6,
   "metadata": {},
   "outputs": [],
   "source": [
    "df = pd.read_csv('starts.csv')\n",
    "df['event_date'] = pd.to_datetime(df['event_date'])\n",
    "pd.set_option('display.max_columns', None)  "
   ]
  },
  {
   "cell_type": "code",
   "execution_count": 8,
   "metadata": {},
   "outputs": [],
   "source": [
    "df = df[(df['athlete_age'] < 80) & (df['athlete_age'] > 15) & (df['finish_time'] < 3600)]"
   ]
  },
  {
   "cell_type": "code",
   "execution_count": 12,
   "metadata": {},
   "outputs": [
    {
     "data": {
      "text/html": [
       "<div>\n",
       "<style scoped>\n",
       "    .dataframe tbody tr th:only-of-type {\n",
       "        vertical-align: middle;\n",
       "    }\n",
       "\n",
       "    .dataframe tbody tr th {\n",
       "        vertical-align: top;\n",
       "    }\n",
       "\n",
       "    .dataframe thead th {\n",
       "        text-align: right;\n",
       "    }\n",
       "</style>\n",
       "<table border=\"1\" class=\"dataframe\">\n",
       "  <thead>\n",
       "    <tr style=\"text-align: right;\">\n",
       "      <th></th>\n",
       "      <th>record_id</th>\n",
       "      <th>athlete_id</th>\n",
       "      <th>event_name</th>\n",
       "      <th>event_date</th>\n",
       "      <th>city</th>\n",
       "      <th>region</th>\n",
       "      <th>finish_time</th>\n",
       "      <th>athlete_gender</th>\n",
       "      <th>athlete_age</th>\n",
       "      <th>is_newbie</th>\n",
       "      <th>temp</th>\n",
       "      <th>feels_like</th>\n",
       "      <th>pressure</th>\n",
       "      <th>humidity</th>\n",
       "      <th>dew_point</th>\n",
       "      <th>clouds</th>\n",
       "      <th>wind_speed</th>\n",
       "      <th>wind_deg</th>\n",
       "      <th>weather.main</th>\n",
       "      <th>weather.description</th>\n",
       "      <th>rain.1h</th>\n",
       "      <th>snow.1h</th>\n",
       "      <th>track_description_surface</th>\n",
       "    </tr>\n",
       "  </thead>\n",
       "  <tbody>\n",
       "    <tr>\n",
       "      <th>0</th>\n",
       "      <td>6490</td>\n",
       "      <td>790055465</td>\n",
       "      <td>Нижний пруд</td>\n",
       "      <td>2023-03-25</td>\n",
       "      <td>Калининград</td>\n",
       "      <td>Калининградская область</td>\n",
       "      <td>1260</td>\n",
       "      <td>1</td>\n",
       "      <td>43</td>\n",
       "      <td>1</td>\n",
       "      <td>7.9</td>\n",
       "      <td>5.59</td>\n",
       "      <td>1001</td>\n",
       "      <td>90</td>\n",
       "      <td>6.36</td>\n",
       "      <td>25</td>\n",
       "      <td>3.67</td>\n",
       "      <td>223</td>\n",
       "      <td>Rain</td>\n",
       "      <td>light rain</td>\n",
       "      <td>0.1</td>\n",
       "      <td>NaN</td>\n",
       "      <td>асфальт, бетон</td>\n",
       "    </tr>\n",
       "  </tbody>\n",
       "</table>\n",
       "</div>"
      ],
      "text/plain": [
       "   record_id  athlete_id   event_name event_date         city  \\\n",
       "0       6490   790055465  Нижний пруд 2023-03-25  Калининград   \n",
       "\n",
       "                    region  finish_time  athlete_gender  athlete_age  \\\n",
       "0  Калининградская область         1260               1           43   \n",
       "\n",
       "   is_newbie  temp  feels_like  pressure  humidity  dew_point  clouds  \\\n",
       "0          1   7.9        5.59      1001        90       6.36      25   \n",
       "\n",
       "   wind_speed  wind_deg weather.main weather.description  rain.1h  snow.1h  \\\n",
       "0        3.67       223         Rain          light rain      0.1      NaN   \n",
       "\n",
       "  track_description_surface  \n",
       "0            асфальт, бетон  "
      ]
     },
     "execution_count": 12,
     "metadata": {},
     "output_type": "execute_result"
    }
   ],
   "source": [
    "df.head(1)\n"
   ]
  },
  {
   "cell_type": "code",
   "execution_count": 11,
   "metadata": {},
   "outputs": [],
   "source": [
    "df['athlete_gender'] = df['athlete_gender'].apply(lambda x: 1 if x == 'мужской' else 0)"
   ]
  },
  {
   "cell_type": "code",
   "execution_count": 19,
   "metadata": {},
   "outputs": [
    {
     "data": {
      "text/plain": [
       "np.True_"
      ]
     },
     "execution_count": 19,
     "metadata": {},
     "output_type": "execute_result"
    }
   ],
   "source": [
    "df.groupby('record_id')[['event_name', 'event_date', 'city', 'region', 'temp',\n",
    "       'feels_like', 'pressure', 'humidity', 'dew_point', 'clouds',\n",
    "       'wind_speed', 'wind_deg', 'weather.main', 'weather.description',\n",
    "       'rain.1h', 'snow.1h', 'track_description_surface']].nunique().le(2).all().all()"
   ]
  },
  {
   "cell_type": "markdown",
   "metadata": {},
   "source": [
    "Проверка на то, в каждой ли пробежке одинакого записаны данные по погоде"
   ]
  },
  {
   "cell_type": "code",
   "execution_count": 13,
   "metadata": {},
   "outputs": [],
   "source": [
    "to_do = {'finish_time': 'mean', 'athlete_gender': 'mean', 'athlete_age': 'mean', 'is_newbie': 'mean'}\n",
    "for colum in ['event_name', 'event_date', 'city', 'region', 'temp',\n",
    "       'feels_like', 'pressure', 'humidity', 'dew_point', 'clouds',\n",
    "       'wind_speed', 'wind_deg', 'weather.main', 'weather.description',\n",
    "       'rain.1h', 'snow.1h', 'track_description_surface']:\n",
    "    to_do[colum] = 'first'\n",
    "\n"
   ]
  },
  {
   "cell_type": "markdown",
   "metadata": {},
   "source": [
    "Здесь я просто создаю таблицу с забегами, все значения погоды одинаковые, поэтому я беру первое. Остальное я беру среднее время бега, средний возраст, долю мужчин в забеге и долю новичков."
   ]
  },
  {
   "cell_type": "code",
   "execution_count": 14,
   "metadata": {},
   "outputs": [
    {
     "data": {
      "text/html": [
       "<div>\n",
       "<style scoped>\n",
       "    .dataframe tbody tr th:only-of-type {\n",
       "        vertical-align: middle;\n",
       "    }\n",
       "\n",
       "    .dataframe tbody tr th {\n",
       "        vertical-align: top;\n",
       "    }\n",
       "\n",
       "    .dataframe thead th {\n",
       "        text-align: right;\n",
       "    }\n",
       "</style>\n",
       "<table border=\"1\" class=\"dataframe\">\n",
       "  <thead>\n",
       "    <tr style=\"text-align: right;\">\n",
       "      <th></th>\n",
       "      <th>record_id</th>\n",
       "      <th>finish_time</th>\n",
       "      <th>athlete_gender</th>\n",
       "      <th>athlete_age</th>\n",
       "      <th>is_newbie</th>\n",
       "      <th>event_name</th>\n",
       "      <th>event_date</th>\n",
       "      <th>city</th>\n",
       "      <th>region</th>\n",
       "      <th>temp</th>\n",
       "      <th>feels_like</th>\n",
       "      <th>pressure</th>\n",
       "      <th>humidity</th>\n",
       "      <th>dew_point</th>\n",
       "      <th>clouds</th>\n",
       "      <th>wind_speed</th>\n",
       "      <th>wind_deg</th>\n",
       "      <th>weather.main</th>\n",
       "      <th>weather.description</th>\n",
       "      <th>rain.1h</th>\n",
       "      <th>snow.1h</th>\n",
       "      <th>track_description_surface</th>\n",
       "    </tr>\n",
       "  </thead>\n",
       "  <tbody>\n",
       "    <tr>\n",
       "      <th>0</th>\n",
       "      <td>4751</td>\n",
       "      <td>1723.222222</td>\n",
       "      <td>0.888889</td>\n",
       "      <td>51.777778</td>\n",
       "      <td>0.000000</td>\n",
       "      <td>Якутск Дохсун</td>\n",
       "      <td>2023-01-01</td>\n",
       "      <td>Якутск</td>\n",
       "      <td>Республика Саха (Якутия)</td>\n",
       "      <td>-42.43</td>\n",
       "      <td>-42.43</td>\n",
       "      <td>1021</td>\n",
       "      <td>65</td>\n",
       "      <td>-46.10</td>\n",
       "      <td>100</td>\n",
       "      <td>1.00</td>\n",
       "      <td>10</td>\n",
       "      <td>Fog</td>\n",
       "      <td>fog</td>\n",
       "      <td>NaN</td>\n",
       "      <td>NaN</td>\n",
       "      <td>твердое</td>\n",
       "    </tr>\n",
       "    <tr>\n",
       "      <th>1</th>\n",
       "      <td>4752</td>\n",
       "      <td>1763.500000</td>\n",
       "      <td>0.722222</td>\n",
       "      <td>42.777778</td>\n",
       "      <td>0.055556</td>\n",
       "      <td>Новосибирск набережная</td>\n",
       "      <td>2023-01-01</td>\n",
       "      <td>Новосибирск</td>\n",
       "      <td>Новосибирская область</td>\n",
       "      <td>-7.15</td>\n",
       "      <td>-12.41</td>\n",
       "      <td>1029</td>\n",
       "      <td>91</td>\n",
       "      <td>-8.23</td>\n",
       "      <td>100</td>\n",
       "      <td>3.30</td>\n",
       "      <td>161</td>\n",
       "      <td>Snow</td>\n",
       "      <td>light snow</td>\n",
       "      <td>NaN</td>\n",
       "      <td>0.19</td>\n",
       "      <td>асфальт</td>\n",
       "    </tr>\n",
       "    <tr>\n",
       "      <th>2</th>\n",
       "      <td>4753</td>\n",
       "      <td>1741.181818</td>\n",
       "      <td>0.681818</td>\n",
       "      <td>43.545455</td>\n",
       "      <td>0.045455</td>\n",
       "      <td>Челябинск Экопарк</td>\n",
       "      <td>2023-01-01</td>\n",
       "      <td>Челябинск</td>\n",
       "      <td>Челябинская область</td>\n",
       "      <td>-28.01</td>\n",
       "      <td>-28.01</td>\n",
       "      <td>1028</td>\n",
       "      <td>75</td>\n",
       "      <td>-30.79</td>\n",
       "      <td>75</td>\n",
       "      <td>1.00</td>\n",
       "      <td>120</td>\n",
       "      <td>Snow</td>\n",
       "      <td>light snow</td>\n",
       "      <td>NaN</td>\n",
       "      <td>NaN</td>\n",
       "      <td>смешанное</td>\n",
       "    </tr>\n",
       "    <tr>\n",
       "      <th>3</th>\n",
       "      <td>4755</td>\n",
       "      <td>2030.444444</td>\n",
       "      <td>0.555556</td>\n",
       "      <td>50.888889</td>\n",
       "      <td>0.111111</td>\n",
       "      <td>Курган Центральный парк</td>\n",
       "      <td>2023-01-01</td>\n",
       "      <td>Курган</td>\n",
       "      <td>Курганская область</td>\n",
       "      <td>-30.18</td>\n",
       "      <td>-30.18</td>\n",
       "      <td>1034</td>\n",
       "      <td>75</td>\n",
       "      <td>-32.91</td>\n",
       "      <td>79</td>\n",
       "      <td>1.29</td>\n",
       "      <td>30</td>\n",
       "      <td>Clouds</td>\n",
       "      <td>broken clouds</td>\n",
       "      <td>NaN</td>\n",
       "      <td>NaN</td>\n",
       "      <td>твердое</td>\n",
       "    </tr>\n",
       "    <tr>\n",
       "      <th>4</th>\n",
       "      <td>4758</td>\n",
       "      <td>1657.821429</td>\n",
       "      <td>0.821429</td>\n",
       "      <td>40.785714</td>\n",
       "      <td>0.035714</td>\n",
       "      <td>Пестовский</td>\n",
       "      <td>2023-01-01</td>\n",
       "      <td>Балашиха</td>\n",
       "      <td>Московская область</td>\n",
       "      <td>1.24</td>\n",
       "      <td>-3.48</td>\n",
       "      <td>1009</td>\n",
       "      <td>98</td>\n",
       "      <td>0.96</td>\n",
       "      <td>100</td>\n",
       "      <td>5.22</td>\n",
       "      <td>211</td>\n",
       "      <td>Snow</td>\n",
       "      <td>light snow</td>\n",
       "      <td>NaN</td>\n",
       "      <td>0.22</td>\n",
       "      <td>твердое</td>\n",
       "    </tr>\n",
       "  </tbody>\n",
       "</table>\n",
       "</div>"
      ],
      "text/plain": [
       "   record_id  finish_time  athlete_gender  athlete_age  is_newbie  \\\n",
       "0       4751  1723.222222        0.888889    51.777778   0.000000   \n",
       "1       4752  1763.500000        0.722222    42.777778   0.055556   \n",
       "2       4753  1741.181818        0.681818    43.545455   0.045455   \n",
       "3       4755  2030.444444        0.555556    50.888889   0.111111   \n",
       "4       4758  1657.821429        0.821429    40.785714   0.035714   \n",
       "\n",
       "                event_name event_date         city                    region  \\\n",
       "0            Якутск Дохсун 2023-01-01       Якутск  Республика Саха (Якутия)   \n",
       "1   Новосибирск набережная 2023-01-01  Новосибирск     Новосибирская область   \n",
       "2        Челябинск Экопарк 2023-01-01    Челябинск       Челябинская область   \n",
       "3  Курган Центральный парк 2023-01-01       Курган        Курганская область   \n",
       "4               Пестовский 2023-01-01     Балашиха        Московская область   \n",
       "\n",
       "    temp  feels_like  pressure  humidity  dew_point  clouds  wind_speed  \\\n",
       "0 -42.43      -42.43      1021        65     -46.10     100        1.00   \n",
       "1  -7.15      -12.41      1029        91      -8.23     100        3.30   \n",
       "2 -28.01      -28.01      1028        75     -30.79      75        1.00   \n",
       "3 -30.18      -30.18      1034        75     -32.91      79        1.29   \n",
       "4   1.24       -3.48      1009        98       0.96     100        5.22   \n",
       "\n",
       "   wind_deg weather.main weather.description  rain.1h  snow.1h  \\\n",
       "0        10          Fog                 fog      NaN      NaN   \n",
       "1       161         Snow          light snow      NaN     0.19   \n",
       "2       120         Snow          light snow      NaN      NaN   \n",
       "3        30       Clouds       broken clouds      NaN      NaN   \n",
       "4       211         Snow          light snow      NaN     0.22   \n",
       "\n",
       "  track_description_surface  \n",
       "0                   твердое  \n",
       "1                   асфальт  \n",
       "2                 смешанное  \n",
       "3                   твердое  \n",
       "4                   твердое  "
      ]
     },
     "execution_count": 14,
     "metadata": {},
     "output_type": "execute_result"
    }
   ],
   "source": [
    "runs = df.groupby('record_id').agg(to_do).reset_index()\n",
    "runs.head(5)"
   ]
  },
  {
   "cell_type": "code",
   "execution_count": 15,
   "metadata": {},
   "outputs": [],
   "source": [
    "runs['discomfort_index'] = runs['temp'] - (0.55 - 0.0055 * runs['humidity']) * (runs['temp'] - 14.5)"
   ]
  },
  {
   "cell_type": "markdown",
   "metadata": {},
   "source": [
    "Классификация индекса дискомфорта:\n",
    "Очень холодно - < 5\n",
    "Холодно - (5 - 10)\n",
    "Комфортно - (10 - 15)\n",
    "Жарко - (15 - 25)\n",
    "Очень жарко - > 25"
   ]
  },
  {
   "cell_type": "code",
   "execution_count": 16,
   "metadata": {},
   "outputs": [
    {
     "data": {
      "image/png": "[encoded data removed]",
      "text/plain": [
       "<Figure size 640x480 with 1 Axes>"
      ]
     },
     "metadata": {},
     "output_type": "display_data"
    }
   ],
   "source": [
    "plt.hist(runs['discomfort_index'], bins=30, edgecolor='black')\n",
    "plt.show()"
   ]
  }
 ],
 "metadata": {
  "kernelspec": {
   "display_name": "venv",
   "language": "python",
   "name": "python3"
  },
  "language_info": {
   "codemirror_mode": {
    "name": "ipython",
    "version": 3
   },
   "file_extension": ".py",
   "mimetype": "text/x-python",
   "name": "python",
   "nbconvert_exporter": "python",
   "pygments_lexer": "ipython3",
   "version": "3.11.3"
  }
 },
 "nbformat": 4,
 "nbformat_minor": 2
}
