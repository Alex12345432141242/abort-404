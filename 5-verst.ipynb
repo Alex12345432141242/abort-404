{
 "cells": [
  {
   "cell_type": "code",
   "execution_count": 53,
   "metadata": {},
   "outputs": [],
   "source": [
    "import pandas as pd\n",
    "import seaborn as sns\n",
    "import matplotlib.pyplot as plt \n",
    "import scipy.stats as stats\n",
    "import statsmodels.api as sm  "
   ]
  },
  {
   "cell_type": "code",
   "execution_count": 54,
   "metadata": {},
   "outputs": [],
   "source": [
    "data = pd.read_csv('starts.csv')\n",
    "regions = pd.read_csv('regions.csv')"
   ]
  },
  {
   "cell_type": "code",
   "execution_count": 55,
   "metadata": {},
   "outputs": [],
   "source": [
    "data = data[data['finish_time'] < 3600]\n",
    "data = data[data['athlete_age'] < 80]"
   ]
  },
  {
   "cell_type": "code",
   "execution_count": 56,
   "metadata": {},
   "outputs": [],
   "source": [
    "#merging tables and removing duplicates\n",
    "data = data.merge(regions, on='region', how='left')\n",
    "unique_runners = data.drop_duplicates(subset=['region', 'athlete_id'])"
   ]
  },
  {
   "cell_type": "code",
   "execution_count": 57,
   "metadata": {},
   "outputs": [
    {
     "data": {
      "text/plain": [
       "(37432, 93)"
      ]
     },
     "execution_count": 57,
     "metadata": {},
     "output_type": "execute_result"
    }
   ],
   "source": [
    "unique_runners.shape"
   ]
  },
  {
   "cell_type": "code",
   "execution_count": 58,
   "metadata": {},
   "outputs": [
    {
     "data": {
      "text/plain": [
       "31556"
      ]
     },
     "execution_count": 58,
     "metadata": {},
     "output_type": "execute_result"
    }
   ],
   "source": [
    "\n",
    "unique_runners.athlete_id.nunique()"
   ]
  },
  {
   "cell_type": "markdown",
   "metadata": {},
   "source": [
    "~ 6 тысяч бегали в более чем одном регионе"
   ]
  },
  {
   "cell_type": "code",
   "execution_count": 59,
   "metadata": {},
   "outputs": [],
   "source": [
    "#share of newbies by regions\n",
    "newbie_ratios = (\n",
    "    unique_runners\n",
    "    .groupby('region', as_index=False)\n",
    "    .agg(newbie_ratio=('is_newbie', lambda x: x.sum() / len(x)), total_pro_runners=('is_newbie', lambda x: len(x[unique_runners.is_newbie == 0])))\n",
    ")"
   ]
  },
  {
   "cell_type": "code",
   "execution_count": 60,
   "metadata": {},
   "outputs": [
    {
     "name": "stdout",
     "output_type": "stream",
     "text": [
      "50\n",
      "64\n"
     ]
    },
    {
     "data": {
      "text/html": [
       "<div>\n",
       "<style scoped>\n",
       "    .dataframe tbody tr th:only-of-type {\n",
       "        vertical-align: middle;\n",
       "    }\n",
       "\n",
       "    .dataframe tbody tr th {\n",
       "        vertical-align: top;\n",
       "    }\n",
       "\n",
       "    .dataframe thead th {\n",
       "        text-align: right;\n",
       "    }\n",
       "</style>\n",
       "<table border=\"1\" class=\"dataframe\">\n",
       "  <thead>\n",
       "    <tr style=\"text-align: right;\">\n",
       "      <th></th>\n",
       "      <th>region</th>\n",
       "      <th>newbie_ratio</th>\n",
       "      <th>total_pro_runners</th>\n",
       "    </tr>\n",
       "  </thead>\n",
       "  <tbody>\n",
       "    <tr>\n",
       "      <th>0</th>\n",
       "      <td>Архангельская область</td>\n",
       "      <td>0.781250</td>\n",
       "      <td>14</td>\n",
       "    </tr>\n",
       "    <tr>\n",
       "      <th>1</th>\n",
       "      <td>Астраханская область</td>\n",
       "      <td>0.723926</td>\n",
       "      <td>45</td>\n",
       "    </tr>\n",
       "    <tr>\n",
       "      <th>2</th>\n",
       "      <td>Белгородская область</td>\n",
       "      <td>0.584507</td>\n",
       "      <td>177</td>\n",
       "    </tr>\n",
       "    <tr>\n",
       "      <th>3</th>\n",
       "      <td>Владимирская область</td>\n",
       "      <td>0.560563</td>\n",
       "      <td>156</td>\n",
       "    </tr>\n",
       "    <tr>\n",
       "      <th>4</th>\n",
       "      <td>Волгоградская область</td>\n",
       "      <td>0.664502</td>\n",
       "      <td>155</td>\n",
       "    </tr>\n",
       "    <tr>\n",
       "      <th>5</th>\n",
       "      <td>Воронежская область</td>\n",
       "      <td>0.724057</td>\n",
       "      <td>117</td>\n",
       "    </tr>\n",
       "    <tr>\n",
       "      <th>6</th>\n",
       "      <td>Иркутская область</td>\n",
       "      <td>0.743003</td>\n",
       "      <td>101</td>\n",
       "    </tr>\n",
       "    <tr>\n",
       "      <th>7</th>\n",
       "      <td>Калининградская область</td>\n",
       "      <td>0.599476</td>\n",
       "      <td>153</td>\n",
       "    </tr>\n",
       "    <tr>\n",
       "      <th>8</th>\n",
       "      <td>Калужская область</td>\n",
       "      <td>0.518868</td>\n",
       "      <td>153</td>\n",
       "    </tr>\n",
       "    <tr>\n",
       "      <th>9</th>\n",
       "      <td>Кемеровская область</td>\n",
       "      <td>0.648889</td>\n",
       "      <td>79</td>\n",
       "    </tr>\n",
       "    <tr>\n",
       "      <th>10</th>\n",
       "      <td>Кировская область</td>\n",
       "      <td>0.601533</td>\n",
       "      <td>104</td>\n",
       "    </tr>\n",
       "    <tr>\n",
       "      <th>11</th>\n",
       "      <td>Краснодарский край</td>\n",
       "      <td>0.618357</td>\n",
       "      <td>474</td>\n",
       "    </tr>\n",
       "    <tr>\n",
       "      <th>12</th>\n",
       "      <td>Красноярский край</td>\n",
       "      <td>0.671096</td>\n",
       "      <td>99</td>\n",
       "    </tr>\n",
       "    <tr>\n",
       "      <th>13</th>\n",
       "      <td>Курганская область</td>\n",
       "      <td>0.606557</td>\n",
       "      <td>72</td>\n",
       "    </tr>\n",
       "    <tr>\n",
       "      <th>14</th>\n",
       "      <td>Курская область</td>\n",
       "      <td>0.592721</td>\n",
       "      <td>235</td>\n",
       "    </tr>\n",
       "    <tr>\n",
       "      <th>15</th>\n",
       "      <td>Ленинградская область</td>\n",
       "      <td>0.617647</td>\n",
       "      <td>182</td>\n",
       "    </tr>\n",
       "    <tr>\n",
       "      <th>16</th>\n",
       "      <td>Липецкая область</td>\n",
       "      <td>0.934037</td>\n",
       "      <td>25</td>\n",
       "    </tr>\n",
       "    <tr>\n",
       "      <th>17</th>\n",
       "      <td>Москва</td>\n",
       "      <td>0.572181</td>\n",
       "      <td>2599</td>\n",
       "    </tr>\n",
       "    <tr>\n",
       "      <th>18</th>\n",
       "      <td>Московская область</td>\n",
       "      <td>0.630277</td>\n",
       "      <td>1734</td>\n",
       "    </tr>\n",
       "    <tr>\n",
       "      <th>19</th>\n",
       "      <td>Нижегородская область</td>\n",
       "      <td>0.579092</td>\n",
       "      <td>306</td>\n",
       "    </tr>\n",
       "    <tr>\n",
       "      <th>20</th>\n",
       "      <td>Новгородская область</td>\n",
       "      <td>0.562874</td>\n",
       "      <td>73</td>\n",
       "    </tr>\n",
       "    <tr>\n",
       "      <th>21</th>\n",
       "      <td>Новосибирская область</td>\n",
       "      <td>0.677358</td>\n",
       "      <td>171</td>\n",
       "    </tr>\n",
       "    <tr>\n",
       "      <th>22</th>\n",
       "      <td>Омская область</td>\n",
       "      <td>0.466102</td>\n",
       "      <td>63</td>\n",
       "    </tr>\n",
       "    <tr>\n",
       "      <th>23</th>\n",
       "      <td>Оренбургская область</td>\n",
       "      <td>0.719880</td>\n",
       "      <td>186</td>\n",
       "    </tr>\n",
       "    <tr>\n",
       "      <th>24</th>\n",
       "      <td>Пермский край</td>\n",
       "      <td>0.689088</td>\n",
       "      <td>208</td>\n",
       "    </tr>\n",
       "    <tr>\n",
       "      <th>25</th>\n",
       "      <td>Псковская область</td>\n",
       "      <td>0.713936</td>\n",
       "      <td>117</td>\n",
       "    </tr>\n",
       "    <tr>\n",
       "      <th>26</th>\n",
       "      <td>Республика Адыгея</td>\n",
       "      <td>0.947368</td>\n",
       "      <td>3</td>\n",
       "    </tr>\n",
       "    <tr>\n",
       "      <th>27</th>\n",
       "      <td>Республика Башкортостан</td>\n",
       "      <td>0.662385</td>\n",
       "      <td>184</td>\n",
       "    </tr>\n",
       "    <tr>\n",
       "      <th>28</th>\n",
       "      <td>Республика Карелия</td>\n",
       "      <td>0.935484</td>\n",
       "      <td>4</td>\n",
       "    </tr>\n",
       "    <tr>\n",
       "      <th>29</th>\n",
       "      <td>Республика Коми</td>\n",
       "      <td>0.392857</td>\n",
       "      <td>34</td>\n",
       "    </tr>\n",
       "    <tr>\n",
       "      <th>30</th>\n",
       "      <td>Республика Марий Эл</td>\n",
       "      <td>0.612903</td>\n",
       "      <td>72</td>\n",
       "    </tr>\n",
       "    <tr>\n",
       "      <th>31</th>\n",
       "      <td>Республика Саха (Якутия)</td>\n",
       "      <td>0.636943</td>\n",
       "      <td>114</td>\n",
       "    </tr>\n",
       "    <tr>\n",
       "      <th>32</th>\n",
       "      <td>Республика Северная Осетия — Алания</td>\n",
       "      <td>0.588889</td>\n",
       "      <td>37</td>\n",
       "    </tr>\n",
       "    <tr>\n",
       "      <th>33</th>\n",
       "      <td>Республика Татарстан</td>\n",
       "      <td>0.579576</td>\n",
       "      <td>317</td>\n",
       "    </tr>\n",
       "    <tr>\n",
       "      <th>34</th>\n",
       "      <td>Ростовская область</td>\n",
       "      <td>0.743316</td>\n",
       "      <td>192</td>\n",
       "    </tr>\n",
       "    <tr>\n",
       "      <th>35</th>\n",
       "      <td>Самарская область</td>\n",
       "      <td>0.656958</td>\n",
       "      <td>106</td>\n",
       "    </tr>\n",
       "    <tr>\n",
       "      <th>36</th>\n",
       "      <td>Санкт-Петербург</td>\n",
       "      <td>0.581375</td>\n",
       "      <td>1425</td>\n",
       "    </tr>\n",
       "    <tr>\n",
       "      <th>37</th>\n",
       "      <td>Сахалинская область</td>\n",
       "      <td>0.794118</td>\n",
       "      <td>21</td>\n",
       "    </tr>\n",
       "    <tr>\n",
       "      <th>38</th>\n",
       "      <td>Свердловская область</td>\n",
       "      <td>0.648936</td>\n",
       "      <td>330</td>\n",
       "    </tr>\n",
       "    <tr>\n",
       "      <th>39</th>\n",
       "      <td>Смоленская область</td>\n",
       "      <td>0.470199</td>\n",
       "      <td>80</td>\n",
       "    </tr>\n",
       "    <tr>\n",
       "      <th>40</th>\n",
       "      <td>Ставропольский край</td>\n",
       "      <td>0.657086</td>\n",
       "      <td>513</td>\n",
       "    </tr>\n",
       "    <tr>\n",
       "      <th>41</th>\n",
       "      <td>Тамбовская область</td>\n",
       "      <td>0.470796</td>\n",
       "      <td>299</td>\n",
       "    </tr>\n",
       "    <tr>\n",
       "      <th>42</th>\n",
       "      <td>Томская область</td>\n",
       "      <td>0.622356</td>\n",
       "      <td>375</td>\n",
       "    </tr>\n",
       "    <tr>\n",
       "      <th>43</th>\n",
       "      <td>Тульская область</td>\n",
       "      <td>0.481928</td>\n",
       "      <td>215</td>\n",
       "    </tr>\n",
       "    <tr>\n",
       "      <th>44</th>\n",
       "      <td>Тюменская область</td>\n",
       "      <td>0.859109</td>\n",
       "      <td>471</td>\n",
       "    </tr>\n",
       "    <tr>\n",
       "      <th>45</th>\n",
       "      <td>Удмуртская Республика</td>\n",
       "      <td>0.469231</td>\n",
       "      <td>69</td>\n",
       "    </tr>\n",
       "    <tr>\n",
       "      <th>46</th>\n",
       "      <td>Челябинская область</td>\n",
       "      <td>0.735499</td>\n",
       "      <td>456</td>\n",
       "    </tr>\n",
       "    <tr>\n",
       "      <th>47</th>\n",
       "      <td>Чувашская Республика</td>\n",
       "      <td>0.553571</td>\n",
       "      <td>75</td>\n",
       "    </tr>\n",
       "    <tr>\n",
       "      <th>48</th>\n",
       "      <td>Ярославская область</td>\n",
       "      <td>0.425000</td>\n",
       "      <td>115</td>\n",
       "    </tr>\n",
       "  </tbody>\n",
       "</table>\n",
       "</div>"
      ],
      "text/plain": [
       "                                 region  newbie_ratio  total_pro_runners\n",
       "0                 Архангельская область      0.781250                 14\n",
       "1                  Астраханская область      0.723926                 45\n",
       "2                  Белгородская область      0.584507                177\n",
       "3                  Владимирская область      0.560563                156\n",
       "4                 Волгоградская область      0.664502                155\n",
       "5                   Воронежская область      0.724057                117\n",
       "6                     Иркутская область      0.743003                101\n",
       "7               Калининградская область      0.599476                153\n",
       "8                     Калужская область      0.518868                153\n",
       "9                   Кемеровская область      0.648889                 79\n",
       "10                    Кировская область      0.601533                104\n",
       "11                   Краснодарский край      0.618357                474\n",
       "12                    Красноярский край      0.671096                 99\n",
       "13                   Курганская область      0.606557                 72\n",
       "14                      Курская область      0.592721                235\n",
       "15                Ленинградская область      0.617647                182\n",
       "16                     Липецкая область      0.934037                 25\n",
       "17                               Москва      0.572181               2599\n",
       "18                   Московская область      0.630277               1734\n",
       "19                Нижегородская область      0.579092                306\n",
       "20                 Новгородская область      0.562874                 73\n",
       "21                Новосибирская область      0.677358                171\n",
       "22                       Омская область      0.466102                 63\n",
       "23                 Оренбургская область      0.719880                186\n",
       "24                        Пермский край      0.689088                208\n",
       "25                    Псковская область      0.713936                117\n",
       "26                    Республика Адыгея      0.947368                  3\n",
       "27              Республика Башкортостан      0.662385                184\n",
       "28                   Республика Карелия      0.935484                  4\n",
       "29                      Республика Коми      0.392857                 34\n",
       "30                  Республика Марий Эл      0.612903                 72\n",
       "31             Республика Саха (Якутия)      0.636943                114\n",
       "32  Республика Северная Осетия — Алания      0.588889                 37\n",
       "33                 Республика Татарстан      0.579576                317\n",
       "34                   Ростовская область      0.743316                192\n",
       "35                    Самарская область      0.656958                106\n",
       "36                      Санкт-Петербург      0.581375               1425\n",
       "37                  Сахалинская область      0.794118                 21\n",
       "38                 Свердловская область      0.648936                330\n",
       "39                   Смоленская область      0.470199                 80\n",
       "40                  Ставропольский край      0.657086                513\n",
       "41                   Тамбовская область      0.470796                299\n",
       "42                      Томская область      0.622356                375\n",
       "43                     Тульская область      0.481928                215\n",
       "44                    Тюменская область      0.859109                471\n",
       "45                Удмуртская Республика      0.469231                 69\n",
       "46                  Челябинская область      0.735499                456\n",
       "47                 Чувашская Республика      0.553571                 75\n",
       "48                  Ярославская область      0.425000                115"
      ]
     },
     "metadata": {},
     "output_type": "display_data"
    }
   ],
   "source": [
    "\n",
    "print(len(data[(data.region == 'Архангельская область') & (data.is_newbie == 1)].drop_duplicates('athlete_id')))\n",
    "print(len(data[(data.region == 'Архангельская область')].drop_duplicates('athlete_id')))\n",
    "display(newbie_ratios)"
   ]
  },
  {
   "cell_type": "markdown",
   "metadata": {},
   "source": [
    "Проверим распределение на нормальность"
   ]
  },
  {
   "cell_type": "code",
   "execution_count": 61,
   "metadata": {},
   "outputs": [
    {
     "data": {
      "text/plain": [
       "<Axes: xlabel='newbie_ratio', ylabel='Count'>"
      ]
     },
     "execution_count": 61,
     "metadata": {},
     "output_type": "execute_result"
    },
    {
     "data": {
      "image/png": "[encoded data removed]",
      "text/plain": [
       "<Figure size 640x480 with 1 Axes>"
      ]
     },
     "metadata": {},
     "output_type": "display_data"
    }
   ],
   "source": [
    "sns.histplot(newbie_ratios.newbie_ratio)"
   ]
  },
  {
   "cell_type": "code",
   "execution_count": 62,
   "metadata": {},
   "outputs": [
    {
     "data": {
      "image/png": "[encoded data removed]",
      "text/plain": [
       "<Figure size 640x480 with 1 Axes>"
      ]
     },
     "metadata": {},
     "output_type": "display_data"
    }
   ],
   "source": [
    "stats.probplot(newbie_ratios.newbie_ratio, dist=\"norm\", plot=plt)\n",
    "plt.title(\"Q-Q Plot\")\n",
    "plt.show()"
   ]
  },
  {
   "cell_type": "markdown",
   "metadata": {},
   "source": [
    "Все отлично за исключением хвоста в конце"
   ]
  },
  {
   "cell_type": "code",
   "execution_count": 63,
   "metadata": {},
   "outputs": [
    {
     "data": {
      "text/plain": [
       "ShapiroResult(statistic=0.9575956463813782, pvalue=0.07543288171291351)"
      ]
     },
     "execution_count": 63,
     "metadata": {},
     "output_type": "execute_result"
    }
   ],
   "source": [
    "stats.shapiro(newbie_ratios.newbie_ratio)"
   ]
  },
  {
   "cell_type": "markdown",
   "metadata": {},
   "source": [
    "Можем считать распределение нормальным"
   ]
  },
  {
   "cell_type": "markdown",
   "metadata": {},
   "source": [
    "далее Максим"
   ]
  },
  {
   "cell_type": "code",
   "execution_count": 64,
   "metadata": {},
   "outputs": [
    {
     "data": {
      "text/html": [
       "<div>\n",
       "<style scoped>\n",
       "    .dataframe tbody tr th:only-of-type {\n",
       "        vertical-align: middle;\n",
       "    }\n",
       "\n",
       "    .dataframe tbody tr th {\n",
       "        vertical-align: top;\n",
       "    }\n",
       "\n",
       "    .dataframe thead th {\n",
       "        text-align: right;\n",
       "    }\n",
       "</style>\n",
       "<table border=\"1\" class=\"dataframe\">\n",
       "  <thead>\n",
       "    <tr style=\"text-align: right;\">\n",
       "      <th></th>\n",
       "      <th>region</th>\n",
       "      <th>newbie_ratio</th>\n",
       "      <th>total_pro_runners</th>\n",
       "    </tr>\n",
       "  </thead>\n",
       "  <tbody>\n",
       "    <tr>\n",
       "      <th>0</th>\n",
       "      <td>Архангельская область</td>\n",
       "      <td>0.781250</td>\n",
       "      <td>14</td>\n",
       "    </tr>\n",
       "    <tr>\n",
       "      <th>1</th>\n",
       "      <td>Астраханская область</td>\n",
       "      <td>0.723926</td>\n",
       "      <td>45</td>\n",
       "    </tr>\n",
       "  </tbody>\n",
       "</table>\n",
       "</div>"
      ],
      "text/plain": [
       "                  region  newbie_ratio  total_pro_runners\n",
       "0  Архангельская область      0.781250                 14\n",
       "1   Астраханская область      0.723926                 45"
      ]
     },
     "execution_count": 64,
     "metadata": {},
     "output_type": "execute_result"
    }
   ],
   "source": [
    "# ДАЛЕЕ МАКСИМ делает\n",
    "\n",
    "newbie_ratios.head(2)"
   ]
  },
  {
   "cell_type": "code",
   "execution_count": 65,
   "metadata": {},
   "outputs": [
    {
     "name": "stdout",
     "output_type": "stream",
     "text": [
      "49\n"
     ]
    },
    {
     "data": {
      "text/html": [
       "<div>\n",
       "<style scoped>\n",
       "    .dataframe tbody tr th:only-of-type {\n",
       "        vertical-align: middle;\n",
       "    }\n",
       "\n",
       "    .dataframe tbody tr th {\n",
       "        vertical-align: top;\n",
       "    }\n",
       "\n",
       "    .dataframe thead th {\n",
       "        text-align: right;\n",
       "    }\n",
       "</style>\n",
       "<table border=\"1\" class=\"dataframe\">\n",
       "  <thead>\n",
       "    <tr style=\"text-align: right;\">\n",
       "      <th></th>\n",
       "      <th>region</th>\n",
       "      <th>newbie_ratio</th>\n",
       "      <th>total_pro_runners</th>\n",
       "      <th>per_capita_income_rub</th>\n",
       "      <th>median_income_per_capita_rub</th>\n",
       "      <th>milk_consumption_per_capita</th>\n",
       "      <th>sugar_consumption_per_capita</th>\n",
       "      <th>urban_population_pct</th>\n",
       "      <th>male_to_female_ratio</th>\n",
       "      <th>under_working_age_population_pct</th>\n",
       "      <th>...</th>\n",
       "      <th>disabled_population_per_1000</th>\n",
       "      <th>population_total</th>\n",
       "      <th>crimes_murder_attempts</th>\n",
       "      <th>crimes_grievous_bodily_harm</th>\n",
       "      <th>crimes_robbery</th>\n",
       "      <th>crimes_armed_robbery</th>\n",
       "      <th>crimes_hooliganism</th>\n",
       "      <th>crimes_drug_related</th>\n",
       "      <th>nominal_wages_avg_rub</th>\n",
       "      <th>poverty_rate_pct_region</th>\n",
       "    </tr>\n",
       "  </thead>\n",
       "  <tbody>\n",
       "    <tr>\n",
       "      <th>0</th>\n",
       "      <td>Архангельская область</td>\n",
       "      <td>0.781250</td>\n",
       "      <td>14</td>\n",
       "      <td>48356</td>\n",
       "      <td>35748.2</td>\n",
       "      <td>206.0</td>\n",
       "      <td>40.0</td>\n",
       "      <td>77.7</td>\n",
       "      <td>1162.0</td>\n",
       "      <td>18.1</td>\n",
       "      <td>...</td>\n",
       "      <td>79.0</td>\n",
       "      <td>1016.0</td>\n",
       "      <td>116</td>\n",
       "      <td>178</td>\n",
       "      <td>471</td>\n",
       "      <td>47</td>\n",
       "      <td>10</td>\n",
       "      <td>1109</td>\n",
       "      <td>67835</td>\n",
       "      <td>11.8</td>\n",
       "    </tr>\n",
       "    <tr>\n",
       "      <th>1</th>\n",
       "      <td>Астраханская область</td>\n",
       "      <td>0.723926</td>\n",
       "      <td>45</td>\n",
       "      <td>31119</td>\n",
       "      <td>25038.0</td>\n",
       "      <td>200.0</td>\n",
       "      <td>44.0</td>\n",
       "      <td>64.1</td>\n",
       "      <td>1129.0</td>\n",
       "      <td>21.2</td>\n",
       "      <td>...</td>\n",
       "      <td>47.2</td>\n",
       "      <td>957.8</td>\n",
       "      <td>29</td>\n",
       "      <td>93</td>\n",
       "      <td>147</td>\n",
       "      <td>19</td>\n",
       "      <td>13</td>\n",
       "      <td>1135</td>\n",
       "      <td>47780</td>\n",
       "      <td>13.8</td>\n",
       "    </tr>\n",
       "  </tbody>\n",
       "</table>\n",
       "<p>2 rows × 73 columns</p>\n",
       "</div>"
      ],
      "text/plain": [
       "                  region  newbie_ratio  total_pro_runners  \\\n",
       "0  Архангельская область      0.781250                 14   \n",
       "1   Астраханская область      0.723926                 45   \n",
       "\n",
       "   per_capita_income_rub  median_income_per_capita_rub  \\\n",
       "0                  48356                       35748.2   \n",
       "1                  31119                       25038.0   \n",
       "\n",
       "   milk_consumption_per_capita  sugar_consumption_per_capita  \\\n",
       "0                        206.0                          40.0   \n",
       "1                        200.0                          44.0   \n",
       "\n",
       "   urban_population_pct  male_to_female_ratio  \\\n",
       "0                  77.7                1162.0   \n",
       "1                  64.1                1129.0   \n",
       "\n",
       "   under_working_age_population_pct  ...  disabled_population_per_1000  \\\n",
       "0                              18.1  ...                          79.0   \n",
       "1                              21.2  ...                          47.2   \n",
       "\n",
       "   population_total  crimes_murder_attempts  crimes_grievous_bodily_harm  \\\n",
       "0            1016.0                     116                          178   \n",
       "1             957.8                      29                           93   \n",
       "\n",
       "   crimes_robbery  crimes_armed_robbery  crimes_hooliganism  \\\n",
       "0             471                    47                  10   \n",
       "1             147                    19                  13   \n",
       "\n",
       "   crimes_drug_related  nominal_wages_avg_rub  poverty_rate_pct_region  \n",
       "0                 1109                  67835                     11.8  \n",
       "1                 1135                  47780                     13.8  \n",
       "\n",
       "[2 rows x 73 columns]"
      ]
     },
     "metadata": {},
     "output_type": "display_data"
    }
   ],
   "source": [
    "reg = newbie_ratios.merge(regions, how='left', on='region')\n",
    "print(reg.shape[0])\n",
    "display(reg.head(2))"
   ]
  },
  {
   "cell_type": "markdown",
   "metadata": {},
   "source": [
    "Далее я хочу удалить не стат значимые (p_value > 0.05) корреляции с newbie_ratio."
   ]
  },
  {
   "cell_type": "markdown",
   "metadata": {},
   "source": [
    "Щас сделаю по корреляции СПИРМЕНА\n"
   ]
  },
  {
   "cell_type": "code",
   "execution_count": 66,
   "metadata": {},
   "outputs": [],
   "source": [
    "reg['air_pollutant_relative_per_1000_person'] = reg['air_pollutant_emissions'] / reg['population_total'] * 1000\n",
    "reg = reg.drop(columns=['air_pollutant_emissions'])\n",
    "#относительно на 1000 человек считаем"
   ]
  },
  {
   "cell_type": "code",
   "execution_count": 67,
   "metadata": {},
   "outputs": [
    {
     "name": "stdout",
     "output_type": "stream",
     "text": [
      "\n",
      "Неподходящие целочисленные переменные: ['total_pro_runners', 'per_capita_income_rub', 'median_income_per_capita_rub', 'milk_consumption_per_capita', 'sugar_consumption_per_capita', 'urban_population_pct', 'under_working_age_population_pct', 'working_age_population_pct', 'dependency_ratio', 'death_rate_per_1000', 'infant_mortality_per_1000_births', 'natural_increase_rate_per_1000', 'marriage_rate_per_1000', 'migration_increase_rate_per_10000', 'library_books_per_1000', 'library_users_total', 'forest_coverage_pct', 'disease_incidence_infectious', 'disease_incidence_cancer', 'disease_incidence_blood', 'disease_incidence_endocrine', 'disease_incidence_nervous', 'disease_incidence_eye', 'disease_incidence_ear', 'disease_incidence_circulatory', 'disease_incidence_respiratory', 'disease_incidence_digestive', 'disease_incidence_skin', 'disease_incidence_musculoskeletal', 'disease_incidence_genitourinary', 'disease_incidence_congenital', 'disease_incidence_trauma', 'disease_incidence_all', 'captured_air_pollutants_pct', 'wastewater_discharge', 'gross_preschool_coverage', 'qualified_workers_grads', 'mid_level_specialists_grads', 'bachelors_specialists_masters_grads', 'electronic_data_exchange_pct', 'personal_computer_households_pct', 'internet_access_households_pct', 'broadband_access_households_pct', 'daily_internet_usage_pct', 'bus_passenger_transport', 'buses_per_100000', 'unemployed_per_vacancy', 'stadiums_1500_seats', 'sports_facilities_fields', 'sports_facilities_gyms', 'sports_facilities_pools', 'alcoholism_patients_per_100k', 'drug_addiction_patients_per_100k', 'disabled_population_per_1000', 'population_total', 'crimes_murder_attempts', 'crimes_grievous_bodily_harm', 'crimes_robbery', 'crimes_armed_robbery', 'crimes_hooliganism', 'crimes_drug_related', 'nominal_wages_avg_rub', 'poverty_rate_pct_region']\n",
      "63\n"
     ]
    }
   ],
   "source": [
    "# Фильтруем только целочисленные столбцы  \n",
    "integer_columns = reg.select_dtypes(include=['number']).columns  \n",
    "\n",
    "# Переменная для хранения незначимых переменных  \n",
    "insignificant_vars = []  \n",
    "\n",
    "# Обходим все целочисленные столбцы  \n",
    "for col in integer_columns:  \n",
    "    \n",
    "    try:\n",
    "        if col != 'newbie_ratio':  # пропускаем целевую переменную  \n",
    "        # Рассчитываем коэффициент корреляции Спирмена и p-значение  \n",
    "            corr, p_value = stats.spearmanr(reg[col], reg['newbie_ratio'])  \n",
    "        \n",
    "        # Если p-значение больше 0.05, то переменная не стат значимо влияет на newbie_ratio  \n",
    "            if p_value > 0.05:  \n",
    "                insignificant_vars.append(col)  \n",
    "    except Exception:\n",
    "        print(f'Nan по {col} столбцу есть')\n",
    "print()\n",
    "# Выводим все целочисленные переменные, которые не влияют стат значимо на newbie_ratio  \n",
    "print(\"Неподходящие целочисленные переменные:\", insignificant_vars)\n",
    "print(len(insignificant_vars))"
   ]
  },
  {
   "cell_type": "code",
   "execution_count": 68,
   "metadata": {},
   "outputs": [],
   "source": [
    "# Удаляем незначимые переменные (по корреляции) из датафрейма  \n",
    "reg = reg.drop(columns=insignificant_vars)  \n"
   ]
  },
  {
   "cell_type": "markdown",
   "metadata": {},
   "source": [
    "Итого у нас удалилось 62 столбца с не стат значимой корреляцией с Newbie_ratio\n"
   ]
  },
  {
   "cell_type": "code",
   "execution_count": 69,
   "metadata": {},
   "outputs": [
    {
     "name": "stdout",
     "output_type": "stream",
     "text": [
      "Index(['region', 'newbie_ratio', 'male_to_female_ratio',\n",
      "       'above_working_age_population_pct', 'birth_rate_per_1000',\n",
      "       'divorce_rate_per_1000', 'milk_production_total',\n",
      "       'milk_production_per_cow', 'substance_abuse_patients_per_100k',\n",
      "       'air_pollutant_relative_per_1000_person'],\n",
      "      dtype='object')\n"
     ]
    }
   ],
   "source": [
    "reg.head(3)\n",
    "print(reg.columns)\n"
   ]
  },
  {
   "cell_type": "markdown",
   "metadata": {},
   "source": [
    "Посмотрим на корреляции стат значимых переменных влиящие на newbie_ratio"
   ]
  },
  {
   "cell_type": "code",
   "execution_count": null,
   "metadata": {},
   "outputs": [],
   "source": []
  },
  {
   "cell_type": "code",
   "execution_count": 70,
   "metadata": {},
   "outputs": [
    {
     "data": {
      "image/png": "[encoded data removed]",
      "text/plain": [
       "<Figure size 1000x800 with 2 Axes>"
      ]
     },
     "metadata": {},
     "output_type": "display_data"
    }
   ],
   "source": [
    "reg_numeric = reg.drop(columns=['region'])  \n",
    "\n",
    "# Расчет матрицы корреляций  \n",
    "correlation_matrix = reg_numeric.corr(method='spearman')  \n",
    "\n",
    "# Настройки визуализации  \n",
    "plt.figure(figsize=(10, 8))  # Установка размера графика  \n",
    "sns.heatmap(correlation_matrix, annot=True, fmt=\".2f\", cmap='coolwarm', square=True, cbar_kws={\"shrink\": .8})  \n",
    "\n",
    "# Добавление заголовка  \n",
    "plt.title('Матрица корреляций', fontsize=16)  \n",
    "plt.tight_layout()  # Уплотняем график  \n",
    "plt.show()  "
   ]
  },
  {
   "cell_type": "code",
   "execution_count": 71,
   "metadata": {},
   "outputs": [
    {
     "data": {
      "text/plain": [
       "region                                    0\n",
       "newbie_ratio                              0\n",
       "male_to_female_ratio                      0\n",
       "above_working_age_population_pct          0\n",
       "birth_rate_per_1000                       0\n",
       "divorce_rate_per_1000                     0\n",
       "milk_production_total                     1\n",
       "milk_production_per_cow                   1\n",
       "substance_abuse_patients_per_100k         1\n",
       "air_pollutant_relative_per_1000_person    0\n",
       "dtype: int64"
      ]
     },
     "execution_count": 71,
     "metadata": {},
     "output_type": "execute_result"
    }
   ],
   "source": [
    "reg.isnull().sum()\n"
   ]
  },
  {
   "cell_type": "code",
   "execution_count": 72,
   "metadata": {},
   "outputs": [
    {
     "data": {
      "text/html": [
       "<div>\n",
       "<style scoped>\n",
       "    .dataframe tbody tr th:only-of-type {\n",
       "        vertical-align: middle;\n",
       "    }\n",
       "\n",
       "    .dataframe tbody tr th {\n",
       "        vertical-align: top;\n",
       "    }\n",
       "\n",
       "    .dataframe thead th {\n",
       "        text-align: right;\n",
       "    }\n",
       "</style>\n",
       "<table border=\"1\" class=\"dataframe\">\n",
       "  <thead>\n",
       "    <tr style=\"text-align: right;\">\n",
       "      <th></th>\n",
       "      <th>region</th>\n",
       "      <th>newbie_ratio</th>\n",
       "      <th>male_to_female_ratio</th>\n",
       "      <th>above_working_age_population_pct</th>\n",
       "      <th>birth_rate_per_1000</th>\n",
       "      <th>divorce_rate_per_1000</th>\n",
       "      <th>milk_production_total</th>\n",
       "      <th>milk_production_per_cow</th>\n",
       "      <th>substance_abuse_patients_per_100k</th>\n",
       "      <th>air_pollutant_relative_per_1000_person</th>\n",
       "    </tr>\n",
       "  </thead>\n",
       "  <tbody>\n",
       "    <tr>\n",
       "      <th>36</th>\n",
       "      <td>Санкт-Петербург</td>\n",
       "      <td>0.581375</td>\n",
       "      <td>1217.0</td>\n",
       "      <td>25.5</td>\n",
       "      <td>9.0</td>\n",
       "      <td>4.8</td>\n",
       "      <td>NaN</td>\n",
       "      <td>NaN</td>\n",
       "      <td>1.3</td>\n",
       "      <td>12.482391</td>\n",
       "    </tr>\n",
       "  </tbody>\n",
       "</table>\n",
       "</div>"
      ],
      "text/plain": [
       "             region  newbie_ratio  male_to_female_ratio  \\\n",
       "36  Санкт-Петербург      0.581375                1217.0   \n",
       "\n",
       "    above_working_age_population_pct  birth_rate_per_1000  \\\n",
       "36                              25.5                  9.0   \n",
       "\n",
       "    divorce_rate_per_1000  milk_production_total  milk_production_per_cow  \\\n",
       "36                    4.8                    NaN                      NaN   \n",
       "\n",
       "    substance_abuse_patients_per_100k  air_pollutant_relative_per_1000_person  \n",
       "36                                1.3                               12.482391  "
      ]
     },
     "execution_count": 72,
     "metadata": {},
     "output_type": "execute_result"
    }
   ],
   "source": [
    "reg[reg['milk_production_total'].isnull()]  # по питеру нет о кол ве произведенного молока"
   ]
  },
  {
   "cell_type": "code",
   "execution_count": 73,
   "metadata": {},
   "outputs": [
    {
     "data": {
      "text/html": [
       "<div>\n",
       "<style scoped>\n",
       "    .dataframe tbody tr th:only-of-type {\n",
       "        vertical-align: middle;\n",
       "    }\n",
       "\n",
       "    .dataframe tbody tr th {\n",
       "        vertical-align: top;\n",
       "    }\n",
       "\n",
       "    .dataframe thead th {\n",
       "        text-align: right;\n",
       "    }\n",
       "</style>\n",
       "<table border=\"1\" class=\"dataframe\">\n",
       "  <thead>\n",
       "    <tr style=\"text-align: right;\">\n",
       "      <th></th>\n",
       "      <th>region</th>\n",
       "      <th>newbie_ratio</th>\n",
       "      <th>male_to_female_ratio</th>\n",
       "      <th>above_working_age_population_pct</th>\n",
       "      <th>birth_rate_per_1000</th>\n",
       "      <th>divorce_rate_per_1000</th>\n",
       "      <th>milk_production_total</th>\n",
       "      <th>milk_production_per_cow</th>\n",
       "      <th>substance_abuse_patients_per_100k</th>\n",
       "      <th>air_pollutant_relative_per_1000_person</th>\n",
       "    </tr>\n",
       "  </thead>\n",
       "  <tbody>\n",
       "    <tr>\n",
       "      <th>0</th>\n",
       "      <td>Архангельская область</td>\n",
       "      <td>0.78125</td>\n",
       "      <td>1162.0</td>\n",
       "      <td>26.6</td>\n",
       "      <td>8.1</td>\n",
       "      <td>5.1</td>\n",
       "      <td>141.155</td>\n",
       "      <td>7798.0</td>\n",
       "      <td>NaN</td>\n",
       "      <td>202.755906</td>\n",
       "    </tr>\n",
       "  </tbody>\n",
       "</table>\n",
       "</div>"
      ],
      "text/plain": [
       "                  region  newbie_ratio  male_to_female_ratio  \\\n",
       "0  Архангельская область       0.78125                1162.0   \n",
       "\n",
       "   above_working_age_population_pct  birth_rate_per_1000  \\\n",
       "0                              26.6                  8.1   \n",
       "\n",
       "   divorce_rate_per_1000  milk_production_total  milk_production_per_cow  \\\n",
       "0                    5.1                141.155                   7798.0   \n",
       "\n",
       "   substance_abuse_patients_per_100k  air_pollutant_relative_per_1000_person  \n",
       "0                                NaN                              202.755906  "
      ]
     },
     "execution_count": 73,
     "metadata": {},
     "output_type": "execute_result"
    }
   ],
   "source": [
    "reg[reg['substance_abuse_patients_per_100k'].isnull()] #Контингенты пациентов с токсикоманией NAN в архангельской области"
   ]
  },
  {
   "cell_type": "code",
   "execution_count": 74,
   "metadata": {},
   "outputs": [
    {
     "data": {
      "text/html": [
       "<div>\n",
       "<style scoped>\n",
       "    .dataframe tbody tr th:only-of-type {\n",
       "        vertical-align: middle;\n",
       "    }\n",
       "\n",
       "    .dataframe tbody tr th {\n",
       "        vertical-align: top;\n",
       "    }\n",
       "\n",
       "    .dataframe thead th {\n",
       "        text-align: right;\n",
       "    }\n",
       "</style>\n",
       "<table border=\"1\" class=\"dataframe\">\n",
       "  <thead>\n",
       "    <tr style=\"text-align: right;\">\n",
       "      <th></th>\n",
       "      <th>region</th>\n",
       "      <th>newbie_ratio</th>\n",
       "      <th>male_to_female_ratio</th>\n",
       "      <th>above_working_age_population_pct</th>\n",
       "      <th>birth_rate_per_1000</th>\n",
       "      <th>divorce_rate_per_1000</th>\n",
       "      <th>milk_production_total</th>\n",
       "      <th>milk_production_per_cow</th>\n",
       "      <th>substance_abuse_patients_per_100k</th>\n",
       "      <th>air_pollutant_relative_per_1000_person</th>\n",
       "    </tr>\n",
       "  </thead>\n",
       "  <tbody>\n",
       "    <tr>\n",
       "      <th>36</th>\n",
       "      <td>Санкт-Петербург</td>\n",
       "      <td>0.581375</td>\n",
       "      <td>1217.0</td>\n",
       "      <td>25.5</td>\n",
       "      <td>9.0</td>\n",
       "      <td>4.8</td>\n",
       "      <td>NaN</td>\n",
       "      <td>NaN</td>\n",
       "      <td>1.3</td>\n",
       "      <td>12.482391</td>\n",
       "    </tr>\n",
       "  </tbody>\n",
       "</table>\n",
       "</div>"
      ],
      "text/plain": [
       "             region  newbie_ratio  male_to_female_ratio  \\\n",
       "36  Санкт-Петербург      0.581375                1217.0   \n",
       "\n",
       "    above_working_age_population_pct  birth_rate_per_1000  \\\n",
       "36                              25.5                  9.0   \n",
       "\n",
       "    divorce_rate_per_1000  milk_production_total  milk_production_per_cow  \\\n",
       "36                    4.8                    NaN                      NaN   \n",
       "\n",
       "    substance_abuse_patients_per_100k  air_pollutant_relative_per_1000_person  \n",
       "36                                1.3                               12.482391  "
      ]
     },
     "execution_count": 74,
     "metadata": {},
     "output_type": "execute_result"
    }
   ],
   "source": [
    "reg[reg['milk_production_per_cow'].isnull()] # опять в питере NAN по производству молока одной коровой "
   ]
  },
  {
   "cell_type": "markdown",
   "metadata": {},
   "source": [
    "в питере по молоку nan потому что, цитата из описания БД: \"Производство молока (и надой молока на корову), в хозяйствах всех \n",
    "категорий. Значение показателя для \n",
    "Ленинградской области включает\n",
    "г. Санкт-Петербург.\""
   ]
  },
  {
   "cell_type": "code",
   "execution_count": 75,
   "metadata": {},
   "outputs": [
    {
     "data": {
      "text/plain": [
       "city\n",
       "Гатчина    599\n",
       "Кудрово    572\n",
       "Name: count, dtype: int64"
      ]
     },
     "execution_count": 75,
     "metadata": {},
     "output_type": "execute_result"
    }
   ],
   "source": [
    "data[data.region == 'Ленинградская область'].city.value_counts()"
   ]
  }
 ],
 "metadata": {
  "kernelspec": {
   "display_name": "Python 3",
   "language": "python",
   "name": "python3"
  },
  "language_info": {
   "codemirror_mode": {
    "name": "ipython",
    "version": 3
   },
   "file_extension": ".py",
   "mimetype": "text/x-python",
   "name": "python",
   "nbconvert_exporter": "python",
   "pygments_lexer": "ipython3",
   "version": "3.9.0"
  }
 },
 "nbformat": 4,
 "nbformat_minor": 2
}
